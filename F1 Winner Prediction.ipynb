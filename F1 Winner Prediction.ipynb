{
 "cells": [
  {
   "cell_type": "markdown",
   "id": "b7c0a847-43a2-4432-a5a0-5a350427a22e",
   "metadata": {},
   "source": [
    "**Import necessary Libraries**"
   ]
  },
  {
   "cell_type": "code",
   "execution_count": 3,
   "id": "4577bfbc-7928-4890-9585-21bccfaa8d01",
   "metadata": {},
   "outputs": [],
   "source": [
    "import pandas as pd\n",
    "import numpy as np\n",
    "import matplotlib.pyplot as plt\n",
    "import seaborn as sns\n",
    "from pandas.api.types import is_numeric_dtype\n",
    "\n",
    "from sklearn.preprocessing import LabelEncoder\n",
    "from sklearn.model_selection import GridSearchCV, StratifiedKFold\n",
    "from sklearn.model_selection import train_test_split\n",
    "from sklearn.ensemble import RandomForestClassifier\n",
    "from sklearn.tree import DecisionTreeClassifier\n",
    "from sklearn.neighbors import KNeighborsClassifier\n",
    "from sklearn.metrics import accuracy_score, make_scorer, top_k_accuracy_score\n",
    "\n",
    "import pickle\n",
    "import gradio as gr"
   ]
  },
  {
   "cell_type": "code",
   "execution_count": null,
   "id": "66e973ae-daad-49ca-ac48-82d8029d87af",
   "metadata": {},
   "outputs": [],
   "source": []
  },
  {
   "cell_type": "markdown",
   "id": "572ed60e-0d29-40ff-996e-671fed4264cf",
   "metadata": {},
   "source": [
    "**I will now create a single dataset which will contain all necessary features using various csv files.**\n",
    "1. Firstly we will take Driver Details & Starting Grids dataset as it has details about various F1 drivers. "
   ]
  },
  {
   "cell_type": "code",
   "execution_count": 6,
   "id": "140c2525-8680-4299-bf19-5ebb0d8da735",
   "metadata": {},
   "outputs": [],
   "source": [
    "df2 = pd.read_csv(r'\\driver_details.csv')\n",
    "df13 = pd.read_csv(r'\\starting_grids.csv')"
   ]
  },
  {
   "cell_type": "code",
   "execution_count": 7,
   "id": "3db28a51-9c07-449f-a99b-667db2bd0277",
   "metadata": {},
   "outputs": [
    {
     "data": {
      "text/html": [
       "<div>\n",
       "<style scoped>\n",
       "    .dataframe tbody tr th:only-of-type {\n",
       "        vertical-align: middle;\n",
       "    }\n",
       "\n",
       "    .dataframe tbody tr th {\n",
       "        vertical-align: top;\n",
       "    }\n",
       "\n",
       "    .dataframe thead th {\n",
       "        text-align: right;\n",
       "    }\n",
       "</style>\n",
       "<table border=\"1\" class=\"dataframe\">\n",
       "  <thead>\n",
       "    <tr style=\"text-align: right;\">\n",
       "      <th></th>\n",
       "      <th>Car</th>\n",
       "      <th>Detail</th>\n",
       "      <th>Driver</th>\n",
       "      <th>DriverCode</th>\n",
       "      <th>Grand Prix</th>\n",
       "      <th>No</th>\n",
       "      <th>Pos</th>\n",
       "      <th>Time</th>\n",
       "      <th>Year</th>\n",
       "    </tr>\n",
       "  </thead>\n",
       "  <tbody>\n",
       "    <tr>\n",
       "      <th>0</th>\n",
       "      <td>Alfa Romeo</td>\n",
       "      <td>Starting-Grid</td>\n",
       "      <td>Juan Manuel Fangio</td>\n",
       "      <td>FAN</td>\n",
       "      <td>Monaco</td>\n",
       "      <td>34</td>\n",
       "      <td>1</td>\n",
       "      <td>1:50.200</td>\n",
       "      <td>1950</td>\n",
       "    </tr>\n",
       "    <tr>\n",
       "      <th>1</th>\n",
       "      <td>Alfa Romeo</td>\n",
       "      <td>Starting-Grid</td>\n",
       "      <td>Nino Farina</td>\n",
       "      <td>FAR</td>\n",
       "      <td>Monaco</td>\n",
       "      <td>32</td>\n",
       "      <td>2</td>\n",
       "      <td>NaN</td>\n",
       "      <td>1950</td>\n",
       "    </tr>\n",
       "    <tr>\n",
       "      <th>2</th>\n",
       "      <td>Maserati</td>\n",
       "      <td>Starting-Grid</td>\n",
       "      <td>Jose Froilan Gonzalez</td>\n",
       "      <td>GON</td>\n",
       "      <td>Monaco</td>\n",
       "      <td>2</td>\n",
       "      <td>3</td>\n",
       "      <td>NaN</td>\n",
       "      <td>1950</td>\n",
       "    </tr>\n",
       "    <tr>\n",
       "      <th>3</th>\n",
       "      <td>Talbot-Lago</td>\n",
       "      <td>Starting-Grid</td>\n",
       "      <td>Philippe Etancelin</td>\n",
       "      <td>ETA</td>\n",
       "      <td>Monaco</td>\n",
       "      <td>14</td>\n",
       "      <td>4</td>\n",
       "      <td>NaN</td>\n",
       "      <td>1950</td>\n",
       "    </tr>\n",
       "    <tr>\n",
       "      <th>4</th>\n",
       "      <td>Alfa Romeo</td>\n",
       "      <td>Starting-Grid</td>\n",
       "      <td>Luigi Fagioli</td>\n",
       "      <td>FAG</td>\n",
       "      <td>Monaco</td>\n",
       "      <td>36</td>\n",
       "      <td>5</td>\n",
       "      <td>NaN</td>\n",
       "      <td>1950</td>\n",
       "    </tr>\n",
       "  </tbody>\n",
       "</table>\n",
       "</div>"
      ],
      "text/plain": [
       "           Car         Detail                 Driver DriverCode Grand Prix  \\\n",
       "0   Alfa Romeo  Starting-Grid     Juan Manuel Fangio        FAN     Monaco   \n",
       "1   Alfa Romeo  Starting-Grid            Nino Farina        FAR     Monaco   \n",
       "2     Maserati  Starting-Grid  Jose Froilan Gonzalez        GON     Monaco   \n",
       "3  Talbot-Lago  Starting-Grid     Philippe Etancelin        ETA     Monaco   \n",
       "4   Alfa Romeo  Starting-Grid          Luigi Fagioli        FAG     Monaco   \n",
       "\n",
       "   No  Pos      Time  Year  \n",
       "0  34    1  1:50.200  1950  \n",
       "1  32    2       NaN  1950  \n",
       "2   2    3       NaN  1950  \n",
       "3  14    4       NaN  1950  \n",
       "4  36    5       NaN  1950  "
      ]
     },
     "execution_count": 7,
     "metadata": {},
     "output_type": "execute_result"
    }
   ],
   "source": [
    "df13.head()"
   ]
  },
  {
   "cell_type": "markdown",
   "id": "733f5282-e592-454b-b8bc-32f7f5846237",
   "metadata": {},
   "source": [
    "Lets merge these two dataframes & drop irrelevant columns."
   ]
  },
  {
   "cell_type": "code",
   "execution_count": 8,
   "id": "988ebe01-f29f-49cf-ab8a-dfb7531a7643",
   "metadata": {},
   "outputs": [],
   "source": [
    "#I have kept how = right, because df13 has more number of rows.\n",
    "newdf2_13 = df2.merge(df13, how= 'right', on= ['Car', 'Driver', 'Grand Prix', 'Year'])\n",
    "\n",
    "newdf2_13.drop(['Time', 'No', 'Detail'], axis= 1, inplace= True)\n",
    "newdf2_13.rename(columns= {'PTS':'Finish_Position_PTS', 'Pos': 'Starting_Position', 'Race Position':'Finish_Position'}, inplace= True)"
   ]
  },
  {
   "cell_type": "code",
   "execution_count": 9,
   "id": "7032360f-241a-45bd-aefc-61345c4de2ab",
   "metadata": {},
   "outputs": [
    {
     "data": {
      "text/html": [
       "<div>\n",
       "<style scoped>\n",
       "    .dataframe tbody tr th:only-of-type {\n",
       "        vertical-align: middle;\n",
       "    }\n",
       "\n",
       "    .dataframe tbody tr th {\n",
       "        vertical-align: top;\n",
       "    }\n",
       "\n",
       "    .dataframe thead th {\n",
       "        text-align: right;\n",
       "    }\n",
       "</style>\n",
       "<table border=\"1\" class=\"dataframe\">\n",
       "  <thead>\n",
       "    <tr style=\"text-align: right;\">\n",
       "      <th></th>\n",
       "      <th>Car</th>\n",
       "      <th>Date</th>\n",
       "      <th>Driver</th>\n",
       "      <th>Grand Prix</th>\n",
       "      <th>Finish_Position_PTS</th>\n",
       "      <th>Finish_Position</th>\n",
       "      <th>Year</th>\n",
       "      <th>DriverCode</th>\n",
       "      <th>Starting_Position</th>\n",
       "    </tr>\n",
       "  </thead>\n",
       "  <tbody>\n",
       "    <tr>\n",
       "      <th>0</th>\n",
       "      <td>Alfa Romeo</td>\n",
       "      <td>21-May-50</td>\n",
       "      <td>Juan Manuel Fangio</td>\n",
       "      <td>Monaco</td>\n",
       "      <td>9.0</td>\n",
       "      <td>1</td>\n",
       "      <td>1950</td>\n",
       "      <td>FAN</td>\n",
       "      <td>1</td>\n",
       "    </tr>\n",
       "    <tr>\n",
       "      <th>1</th>\n",
       "      <td>Alfa Romeo</td>\n",
       "      <td>21-May-50</td>\n",
       "      <td>Nino Farina</td>\n",
       "      <td>Monaco</td>\n",
       "      <td>0.0</td>\n",
       "      <td>DNF</td>\n",
       "      <td>1950</td>\n",
       "      <td>FAR</td>\n",
       "      <td>2</td>\n",
       "    </tr>\n",
       "    <tr>\n",
       "      <th>2</th>\n",
       "      <td>Maserati</td>\n",
       "      <td>NaN</td>\n",
       "      <td>Jose Froilan Gonzalez</td>\n",
       "      <td>Monaco</td>\n",
       "      <td>NaN</td>\n",
       "      <td>NaN</td>\n",
       "      <td>1950</td>\n",
       "      <td>GON</td>\n",
       "      <td>3</td>\n",
       "    </tr>\n",
       "    <tr>\n",
       "      <th>3</th>\n",
       "      <td>Talbot-Lago</td>\n",
       "      <td>21-May-50</td>\n",
       "      <td>Philippe Etancelin</td>\n",
       "      <td>Monaco</td>\n",
       "      <td>0.0</td>\n",
       "      <td>DNF</td>\n",
       "      <td>1950</td>\n",
       "      <td>ETA</td>\n",
       "      <td>4</td>\n",
       "    </tr>\n",
       "    <tr>\n",
       "      <th>4</th>\n",
       "      <td>Alfa Romeo</td>\n",
       "      <td>21-May-50</td>\n",
       "      <td>Luigi Fagioli</td>\n",
       "      <td>Monaco</td>\n",
       "      <td>0.0</td>\n",
       "      <td>DNF</td>\n",
       "      <td>1950</td>\n",
       "      <td>FAG</td>\n",
       "      <td>5</td>\n",
       "    </tr>\n",
       "  </tbody>\n",
       "</table>\n",
       "</div>"
      ],
      "text/plain": [
       "           Car       Date                 Driver Grand Prix  \\\n",
       "0   Alfa Romeo  21-May-50     Juan Manuel Fangio     Monaco   \n",
       "1   Alfa Romeo  21-May-50            Nino Farina     Monaco   \n",
       "2     Maserati        NaN  Jose Froilan Gonzalez     Monaco   \n",
       "3  Talbot-Lago  21-May-50     Philippe Etancelin     Monaco   \n",
       "4   Alfa Romeo  21-May-50          Luigi Fagioli     Monaco   \n",
       "\n",
       "   Finish_Position_PTS Finish_Position  Year DriverCode  Starting_Position  \n",
       "0                  9.0               1  1950        FAN                  1  \n",
       "1                  0.0             DNF  1950        FAR                  2  \n",
       "2                  NaN             NaN  1950        GON                  3  \n",
       "3                  0.0             DNF  1950        ETA                  4  \n",
       "4                  0.0             DNF  1950        FAG                  5  "
      ]
     },
     "execution_count": 9,
     "metadata": {},
     "output_type": "execute_result"
    }
   ],
   "source": [
    "newdf2_13.head()"
   ]
  },
  {
   "cell_type": "code",
   "execution_count": null,
   "id": "600f0c29-ced0-452e-90a0-791723d7b999",
   "metadata": {},
   "outputs": [],
   "source": []
  },
  {
   "cell_type": "markdown",
   "id": "fc9d4d62-7371-4b4a-b537-406e2e598370",
   "metadata": {},
   "source": [
    "2. Now lets incorporate race details for each driver for each grand prix."
   ]
  },
  {
   "cell_type": "code",
   "execution_count": 10,
   "id": "9c2e3cb5-6bce-4320-b939-2b7f4dd5b768",
   "metadata": {},
   "outputs": [],
   "source": [
    "df9 = pd.read_csv(r'\\race_details.csv')"
   ]
  },
  {
   "cell_type": "code",
   "execution_count": 11,
   "id": "1bad4ada-d09e-4801-917a-70c03db9316c",
   "metadata": {},
   "outputs": [],
   "source": [
    "newdf2_13_9 = newdf2_13.merge(df9, how= 'inner', on= ['Car', 'Driver', 'Grand Prix', 'Year'])"
   ]
  },
  {
   "cell_type": "code",
   "execution_count": 12,
   "id": "6af7641a-f7f0-4165-843c-3b7e71756de5",
   "metadata": {},
   "outputs": [],
   "source": [
    "newdf2_13_9.drop(['DriverCode_x', 'DriverCode_y', 'No', 'Detail','Finish_Position','Finish_Position_PTS', 'Time/Retired'], axis= 1, inplace= True)\n",
    "\n",
    "newdf2_13_9.rename(columns= {'Pos':'Finish_Position', 'PTS':'Finish_Position_PTS'}, inplace= True)"
   ]
  },
  {
   "cell_type": "code",
   "execution_count": 13,
   "id": "cfecc06b-3db4-4563-918d-f4dbe0cb074a",
   "metadata": {},
   "outputs": [
    {
     "data": {
      "text/html": [
       "<div>\n",
       "<style scoped>\n",
       "    .dataframe tbody tr th:only-of-type {\n",
       "        vertical-align: middle;\n",
       "    }\n",
       "\n",
       "    .dataframe tbody tr th {\n",
       "        vertical-align: top;\n",
       "    }\n",
       "\n",
       "    .dataframe thead th {\n",
       "        text-align: right;\n",
       "    }\n",
       "</style>\n",
       "<table border=\"1\" class=\"dataframe\">\n",
       "  <thead>\n",
       "    <tr style=\"text-align: right;\">\n",
       "      <th></th>\n",
       "      <th>Car</th>\n",
       "      <th>Date</th>\n",
       "      <th>Driver</th>\n",
       "      <th>Grand Prix</th>\n",
       "      <th>Year</th>\n",
       "      <th>Starting_Position</th>\n",
       "      <th>Finish_Position</th>\n",
       "      <th>Laps</th>\n",
       "      <th>Finish_Position_PTS</th>\n",
       "    </tr>\n",
       "  </thead>\n",
       "  <tbody>\n",
       "    <tr>\n",
       "      <th>0</th>\n",
       "      <td>Alfa Romeo</td>\n",
       "      <td>21-May-50</td>\n",
       "      <td>Juan Manuel Fangio</td>\n",
       "      <td>Monaco</td>\n",
       "      <td>1950</td>\n",
       "      <td>1</td>\n",
       "      <td>1</td>\n",
       "      <td>100.0</td>\n",
       "      <td>9.0</td>\n",
       "    </tr>\n",
       "    <tr>\n",
       "      <th>1</th>\n",
       "      <td>Alfa Romeo</td>\n",
       "      <td>21-May-50</td>\n",
       "      <td>Nino Farina</td>\n",
       "      <td>Monaco</td>\n",
       "      <td>1950</td>\n",
       "      <td>2</td>\n",
       "      <td>NC</td>\n",
       "      <td>0.0</td>\n",
       "      <td>0.0</td>\n",
       "    </tr>\n",
       "    <tr>\n",
       "      <th>2</th>\n",
       "      <td>Maserati</td>\n",
       "      <td>NaN</td>\n",
       "      <td>Jose Froilan Gonzalez</td>\n",
       "      <td>Monaco</td>\n",
       "      <td>1950</td>\n",
       "      <td>3</td>\n",
       "      <td>NC</td>\n",
       "      <td>1.0</td>\n",
       "      <td>0.0</td>\n",
       "    </tr>\n",
       "    <tr>\n",
       "      <th>3</th>\n",
       "      <td>Talbot-Lago</td>\n",
       "      <td>21-May-50</td>\n",
       "      <td>Philippe Etancelin</td>\n",
       "      <td>Monaco</td>\n",
       "      <td>1950</td>\n",
       "      <td>4</td>\n",
       "      <td>NC</td>\n",
       "      <td>36.0</td>\n",
       "      <td>0.0</td>\n",
       "    </tr>\n",
       "    <tr>\n",
       "      <th>4</th>\n",
       "      <td>Alfa Romeo</td>\n",
       "      <td>21-May-50</td>\n",
       "      <td>Luigi Fagioli</td>\n",
       "      <td>Monaco</td>\n",
       "      <td>1950</td>\n",
       "      <td>5</td>\n",
       "      <td>NC</td>\n",
       "      <td>0.0</td>\n",
       "      <td>0.0</td>\n",
       "    </tr>\n",
       "  </tbody>\n",
       "</table>\n",
       "</div>"
      ],
      "text/plain": [
       "           Car       Date                 Driver Grand Prix  Year  \\\n",
       "0   Alfa Romeo  21-May-50     Juan Manuel Fangio     Monaco  1950   \n",
       "1   Alfa Romeo  21-May-50            Nino Farina     Monaco  1950   \n",
       "2     Maserati        NaN  Jose Froilan Gonzalez     Monaco  1950   \n",
       "3  Talbot-Lago  21-May-50     Philippe Etancelin     Monaco  1950   \n",
       "4   Alfa Romeo  21-May-50          Luigi Fagioli     Monaco  1950   \n",
       "\n",
       "   Starting_Position Finish_Position   Laps  Finish_Position_PTS  \n",
       "0                  1               1  100.0                  9.0  \n",
       "1                  2              NC    0.0                  0.0  \n",
       "2                  3              NC    1.0                  0.0  \n",
       "3                  4              NC   36.0                  0.0  \n",
       "4                  5              NC    0.0                  0.0  "
      ]
     },
     "execution_count": 13,
     "metadata": {},
     "output_type": "execute_result"
    }
   ],
   "source": [
    "newdf2_13_9.head()"
   ]
  },
  {
   "cell_type": "code",
   "execution_count": null,
   "id": "a5ea24e8-ba28-4d07-b816-bd06d72ad5ba",
   "metadata": {},
   "outputs": [],
   "source": []
  },
  {
   "cell_type": "markdown",
   "id": "194b314b-bf58-499d-9834-87b4d98cc036",
   "metadata": {},
   "source": [
    "3. We will add the qualifying dataset which will have details for qualifying for every driver."
   ]
  },
  {
   "cell_type": "code",
   "execution_count": 14,
   "id": "be61f2bf-18c3-461c-a119-909f1e8e075c",
   "metadata": {},
   "outputs": [],
   "source": [
    "df8 = pd.read_csv(r'\\qualifyings.csv')"
   ]
  },
  {
   "cell_type": "code",
   "execution_count": 15,
   "id": "35fdbdad-c4ef-4dbb-ba36-c69100218e1e",
   "metadata": {},
   "outputs": [],
   "source": [
    "newdf2_13_9_8 = newdf2_13_9.merge(df8, how = 'inner', on= ['Car', 'Driver', 'Grand Prix', 'Year'])"
   ]
  },
  {
   "cell_type": "code",
   "execution_count": 17,
   "id": "a9120353-0cf8-4a13-9846-df892fe8377f",
   "metadata": {},
   "outputs": [],
   "source": [
    "newdf2_13_9_8.drop(['DriverCode', 'Date', 'Laps_x', 'Laps_y', 'Detail', 'No'], axis= 1, inplace= True)\n",
    "\n",
    "newdf2_13_9_8.rename(columns= {'Pos': 'Qualifying_Position', 'Time': 'Qualifying_Time'}, inplace= True)"
   ]
  },
  {
   "cell_type": "code",
   "execution_count": 18,
   "id": "466d268e-09b6-461f-998a-c494e97ab723",
   "metadata": {},
   "outputs": [
    {
     "data": {
      "text/html": [
       "<div>\n",
       "<style scoped>\n",
       "    .dataframe tbody tr th:only-of-type {\n",
       "        vertical-align: middle;\n",
       "    }\n",
       "\n",
       "    .dataframe tbody tr th {\n",
       "        vertical-align: top;\n",
       "    }\n",
       "\n",
       "    .dataframe thead th {\n",
       "        text-align: right;\n",
       "    }\n",
       "</style>\n",
       "<table border=\"1\" class=\"dataframe\">\n",
       "  <thead>\n",
       "    <tr style=\"text-align: right;\">\n",
       "      <th></th>\n",
       "      <th>Car</th>\n",
       "      <th>Driver</th>\n",
       "      <th>Grand Prix</th>\n",
       "      <th>Year</th>\n",
       "      <th>Starting_Position</th>\n",
       "      <th>Finish_Position</th>\n",
       "      <th>Finish_Position_PTS</th>\n",
       "      <th>Qualifying_Position</th>\n",
       "      <th>Q1</th>\n",
       "      <th>Q2</th>\n",
       "      <th>Q3</th>\n",
       "      <th>Qualifying_Time</th>\n",
       "    </tr>\n",
       "  </thead>\n",
       "  <tbody>\n",
       "    <tr>\n",
       "      <th>0</th>\n",
       "      <td>Alfa Romeo</td>\n",
       "      <td>Juan Manuel Fangio</td>\n",
       "      <td>Monaco</td>\n",
       "      <td>1950</td>\n",
       "      <td>1</td>\n",
       "      <td>1</td>\n",
       "      <td>9.0</td>\n",
       "      <td>1</td>\n",
       "      <td>NaN</td>\n",
       "      <td>NaN</td>\n",
       "      <td>NaN</td>\n",
       "      <td>01:50.2</td>\n",
       "    </tr>\n",
       "    <tr>\n",
       "      <th>1</th>\n",
       "      <td>Kurtis Kraft Offenhauser</td>\n",
       "      <td>Walt Faulkner</td>\n",
       "      <td>Indianapolis 500</td>\n",
       "      <td>1950</td>\n",
       "      <td>1</td>\n",
       "      <td>7</td>\n",
       "      <td>0.0</td>\n",
       "      <td>1</td>\n",
       "      <td>NaN</td>\n",
       "      <td>NaN</td>\n",
       "      <td>NaN</td>\n",
       "      <td>01:07.0</td>\n",
       "    </tr>\n",
       "    <tr>\n",
       "      <th>2</th>\n",
       "      <td>Alfa Romeo</td>\n",
       "      <td>Nino Farina</td>\n",
       "      <td>Belgium</td>\n",
       "      <td>1950</td>\n",
       "      <td>1</td>\n",
       "      <td>4</td>\n",
       "      <td>4.0</td>\n",
       "      <td>1</td>\n",
       "      <td>NaN</td>\n",
       "      <td>NaN</td>\n",
       "      <td>NaN</td>\n",
       "      <td>04:37.0</td>\n",
       "    </tr>\n",
       "    <tr>\n",
       "      <th>3</th>\n",
       "      <td>Alfa Romeo</td>\n",
       "      <td>Juan Manuel Fangio</td>\n",
       "      <td>France</td>\n",
       "      <td>1950</td>\n",
       "      <td>1</td>\n",
       "      <td>1</td>\n",
       "      <td>9.0</td>\n",
       "      <td>1</td>\n",
       "      <td>NaN</td>\n",
       "      <td>NaN</td>\n",
       "      <td>NaN</td>\n",
       "      <td>02:30.6</td>\n",
       "    </tr>\n",
       "    <tr>\n",
       "      <th>4</th>\n",
       "      <td>Alfa Romeo</td>\n",
       "      <td>Juan Manuel Fangio</td>\n",
       "      <td>Italy</td>\n",
       "      <td>1950</td>\n",
       "      <td>1</td>\n",
       "      <td>NC</td>\n",
       "      <td>1.0</td>\n",
       "      <td>1</td>\n",
       "      <td>NaN</td>\n",
       "      <td>NaN</td>\n",
       "      <td>NaN</td>\n",
       "      <td>01:58.6</td>\n",
       "    </tr>\n",
       "  </tbody>\n",
       "</table>\n",
       "</div>"
      ],
      "text/plain": [
       "                        Car              Driver        Grand Prix  Year  \\\n",
       "0                Alfa Romeo  Juan Manuel Fangio            Monaco  1950   \n",
       "1  Kurtis Kraft Offenhauser       Walt Faulkner  Indianapolis 500  1950   \n",
       "2                Alfa Romeo         Nino Farina           Belgium  1950   \n",
       "3                Alfa Romeo  Juan Manuel Fangio            France  1950   \n",
       "4                Alfa Romeo  Juan Manuel Fangio             Italy  1950   \n",
       "\n",
       "   Starting_Position Finish_Position  Finish_Position_PTS Qualifying_Position  \\\n",
       "0                  1               1                  9.0                   1   \n",
       "1                  1               7                  0.0                   1   \n",
       "2                  1               4                  4.0                   1   \n",
       "3                  1               1                  9.0                   1   \n",
       "4                  1              NC                  1.0                   1   \n",
       "\n",
       "    Q1   Q2   Q3 Qualifying_Time  \n",
       "0  NaN  NaN  NaN         01:50.2  \n",
       "1  NaN  NaN  NaN         01:07.0  \n",
       "2  NaN  NaN  NaN         04:37.0  \n",
       "3  NaN  NaN  NaN         02:30.6  \n",
       "4  NaN  NaN  NaN         01:58.6  "
      ]
     },
     "execution_count": 18,
     "metadata": {},
     "output_type": "execute_result"
    }
   ],
   "source": [
    "newdf2_13_9_8.head()"
   ]
  },
  {
   "cell_type": "code",
   "execution_count": null,
   "id": "bf92e15b-b401-4729-99ed-301b3c4d793b",
   "metadata": {},
   "outputs": [],
   "source": []
  },
  {
   "cell_type": "markdown",
   "id": "9a1633ff-be42-4300-9f5f-3ccc88f672f4",
   "metadata": {},
   "source": [
    "4. Lets add another dataset which will provide nationality of drivers."
   ]
  },
  {
   "cell_type": "code",
   "execution_count": 19,
   "id": "b6c5f08d-e9ab-4a56-8492-21887601e195",
   "metadata": {},
   "outputs": [],
   "source": [
    "national = newdf2_13_9_8.copy()"
   ]
  },
  {
   "cell_type": "code",
   "execution_count": 20,
   "id": "00e87adf-8cb8-4037-9945-32e6751b95bd",
   "metadata": {},
   "outputs": [],
   "source": [
    "dfcountry = pd.read_csv(r'\\drivers.csv')"
   ]
  },
  {
   "cell_type": "code",
   "execution_count": 21,
   "id": "e90124d7-57b8-4e8d-b656-9d8f9aa3d54d",
   "metadata": {},
   "outputs": [
    {
     "data": {
      "text/html": [
       "<div>\n",
       "<style scoped>\n",
       "    .dataframe tbody tr th:only-of-type {\n",
       "        vertical-align: middle;\n",
       "    }\n",
       "\n",
       "    .dataframe tbody tr th {\n",
       "        vertical-align: top;\n",
       "    }\n",
       "\n",
       "    .dataframe thead th {\n",
       "        text-align: right;\n",
       "    }\n",
       "</style>\n",
       "<table border=\"1\" class=\"dataframe\">\n",
       "  <thead>\n",
       "    <tr style=\"text-align: right;\">\n",
       "      <th></th>\n",
       "      <th>driverId</th>\n",
       "      <th>driverRef</th>\n",
       "      <th>number</th>\n",
       "      <th>code</th>\n",
       "      <th>forename</th>\n",
       "      <th>surname</th>\n",
       "      <th>dob</th>\n",
       "      <th>nationality</th>\n",
       "      <th>url</th>\n",
       "    </tr>\n",
       "  </thead>\n",
       "  <tbody>\n",
       "    <tr>\n",
       "      <th>0</th>\n",
       "      <td>1</td>\n",
       "      <td>hamilton</td>\n",
       "      <td>44</td>\n",
       "      <td>HAM</td>\n",
       "      <td>Lewis</td>\n",
       "      <td>Hamilton</td>\n",
       "      <td>1985-01-07</td>\n",
       "      <td>British</td>\n",
       "      <td>http://en.wikipedia.org/wiki/Lewis_Hamilton</td>\n",
       "    </tr>\n",
       "    <tr>\n",
       "      <th>1</th>\n",
       "      <td>2</td>\n",
       "      <td>heidfeld</td>\n",
       "      <td>\\N</td>\n",
       "      <td>HEI</td>\n",
       "      <td>Nick</td>\n",
       "      <td>Heidfeld</td>\n",
       "      <td>1977-05-10</td>\n",
       "      <td>German</td>\n",
       "      <td>http://en.wikipedia.org/wiki/Nick_Heidfeld</td>\n",
       "    </tr>\n",
       "    <tr>\n",
       "      <th>2</th>\n",
       "      <td>3</td>\n",
       "      <td>rosberg</td>\n",
       "      <td>6</td>\n",
       "      <td>ROS</td>\n",
       "      <td>Nico</td>\n",
       "      <td>Rosberg</td>\n",
       "      <td>1985-06-27</td>\n",
       "      <td>German</td>\n",
       "      <td>http://en.wikipedia.org/wiki/Nico_Rosberg</td>\n",
       "    </tr>\n",
       "    <tr>\n",
       "      <th>3</th>\n",
       "      <td>4</td>\n",
       "      <td>alonso</td>\n",
       "      <td>14</td>\n",
       "      <td>ALO</td>\n",
       "      <td>Fernando</td>\n",
       "      <td>Alonso</td>\n",
       "      <td>1981-07-29</td>\n",
       "      <td>Spanish</td>\n",
       "      <td>http://en.wikipedia.org/wiki/Fernando_Alonso</td>\n",
       "    </tr>\n",
       "    <tr>\n",
       "      <th>4</th>\n",
       "      <td>5</td>\n",
       "      <td>kovalainen</td>\n",
       "      <td>\\N</td>\n",
       "      <td>KOV</td>\n",
       "      <td>Heikki</td>\n",
       "      <td>Kovalainen</td>\n",
       "      <td>1981-10-19</td>\n",
       "      <td>Finnish</td>\n",
       "      <td>http://en.wikipedia.org/wiki/Heikki_Kovalainen</td>\n",
       "    </tr>\n",
       "  </tbody>\n",
       "</table>\n",
       "</div>"
      ],
      "text/plain": [
       "   driverId   driverRef number code  forename     surname         dob  \\\n",
       "0         1    hamilton     44  HAM     Lewis    Hamilton  1985-01-07   \n",
       "1         2    heidfeld     \\N  HEI      Nick    Heidfeld  1977-05-10   \n",
       "2         3     rosberg      6  ROS      Nico     Rosberg  1985-06-27   \n",
       "3         4      alonso     14  ALO  Fernando      Alonso  1981-07-29   \n",
       "4         5  kovalainen     \\N  KOV    Heikki  Kovalainen  1981-10-19   \n",
       "\n",
       "  nationality                                             url  \n",
       "0     British     http://en.wikipedia.org/wiki/Lewis_Hamilton  \n",
       "1      German      http://en.wikipedia.org/wiki/Nick_Heidfeld  \n",
       "2      German       http://en.wikipedia.org/wiki/Nico_Rosberg  \n",
       "3     Spanish    http://en.wikipedia.org/wiki/Fernando_Alonso  \n",
       "4     Finnish  http://en.wikipedia.org/wiki/Heikki_Kovalainen  "
      ]
     },
     "execution_count": 21,
     "metadata": {},
     "output_type": "execute_result"
    }
   ],
   "source": [
    "dfcountry.head()"
   ]
  },
  {
   "cell_type": "code",
   "execution_count": 22,
   "id": "b2fd2b7b-77fe-43ac-ad41-1cb790eb4709",
   "metadata": {},
   "outputs": [],
   "source": [
    "dfcountry['Driver'] = dfcountry['forename'] + \" \" + dfcountry['surname']\n",
    "dfcountry = dfcountry[['Driver', 'nationality']].copy()"
   ]
  },
  {
   "cell_type": "code",
   "execution_count": 23,
   "id": "6a91d8ec-0ae6-4465-881f-71261c17175d",
   "metadata": {},
   "outputs": [],
   "source": [
    "newdf = national.merge(dfcountry, how= 'left', on=['Driver'])\n",
    "newdf.rename(columns= {'nationality': 'Nationality'}, inplace= True)"
   ]
  },
  {
   "cell_type": "code",
   "execution_count": null,
   "id": "91678c32-f2b3-449b-9a3c-57529fa9b0f2",
   "metadata": {},
   "outputs": [],
   "source": []
  },
  {
   "cell_type": "markdown",
   "id": "8b603fd2-b684-4230-845c-94987b77c8d6",
   "metadata": {},
   "source": [
    "**Feature Engineering**\n",
    "- First lets transform the time which is in minutes into seconds and milliseconds.\n",
    "- Lets create temporary dataframe and convert qualifying time to seconds and milliseconds.\n",
    "- Change the datatype to datetime for Qualifying_Time, Q1, Q2, Q3 columns."
   ]
  },
  {
   "cell_type": "code",
   "execution_count": 27,
   "id": "14319aa3-143f-4222-b886-c215e5d4b9f8",
   "metadata": {},
   "outputs": [],
   "source": [
    "tempdf = newdf[['Qualifying_Time', 'Q1', 'Q2', 'Q3']].copy()"
   ]
  },
  {
   "cell_type": "markdown",
   "id": "580646ec-963d-41ad-b9c1-50f17ab07f4b",
   "metadata": {},
   "source": [
    "Firstly we will convert the Q1, Q2, Q3, Qualifying_Time columns which are object into datetime."
   ]
  },
  {
   "cell_type": "code",
   "execution_count": 28,
   "id": "3218ea1a-f615-4c2e-8b51-10e5e0ce2c11",
   "metadata": {},
   "outputs": [],
   "source": [
    "pairs = {'Qualifying_Time': 'qualifying_time', 'Q1': 'q1', 'Q2': 'q2', 'Q3':'q3'}\n",
    "\n",
    "for k,v in pairs.items():\n",
    "    tempdf[v] = pd.to_datetime(tempdf[k], format=\"%M:%S.%f\", errors = 'coerce')"
   ]
  },
  {
   "cell_type": "code",
   "execution_count": 29,
   "id": "257ca470-6c22-44b6-9050-b5ca245adbe5",
   "metadata": {},
   "outputs": [],
   "source": [
    "for _,v in pairs.items():\n",
    "    tempdf[v + '_minutes'] = tempdf[v].dt.strftime('%M')\n",
    "    tempdf[v + '_seconds'] = tempdf[v].dt.strftime('%S')\n",
    "    tempdf[v +'_microseconds'] = tempdf[v].dt.strftime('%f')"
   ]
  },
  {
   "cell_type": "markdown",
   "id": "3ee382af-ffc6-4b95-b43a-06cf596e3306",
   "metadata": {},
   "source": [
    "Secodly we will create a function that will combine all minutes, seconds and milliseconds columns to give us total time in terms of seconds."
   ]
  },
  {
   "cell_type": "code",
   "execution_count": 30,
   "id": "0cc65662-6a97-40e2-8d96-358854e06d60",
   "metadata": {},
   "outputs": [],
   "source": [
    "def total_seconds(min, sec, microsec):\n",
    "    min_to_sec = float(min) * 60\n",
    "    microsec_to_sec = float(microsec) * (10**-6)\n",
    "    sec = float(sec)\n",
    "    return round(min_to_sec + microsec_to_sec + sec, 5)\n",
    "    \n",
    "\n",
    "for _,v in pairs.items():\n",
    "    tempdf[v + '_total_seconds'] = tempdf.apply(lambda x: total_seconds(x.loc[v + '_minutes'], x.loc[v + '_seconds'], \n",
    "                                                                        x.loc[v +'_microseconds']), axis = 1)"
   ]
  },
  {
   "cell_type": "markdown",
   "id": "b4fd4157-a4a2-40ea-baa1-fec5dcf2caaa",
   "metadata": {},
   "source": [
    "- Q1, Q2, Q3 have lots of null values because drivers who don't qualify in round 1 won't perform in rounds 2 & 3 respectively.\n",
    "- We will create q_mean variable to take the average of times from qualifying_time_total_seconds, q1_total_seconds, q2_total_seconds, q3_total_seconds columns."
   ]
  },
  {
   "cell_type": "code",
   "execution_count": 31,
   "id": "68fe0c48-1dc9-475a-b340-5dc023a52f05",
   "metadata": {},
   "outputs": [],
   "source": [
    "def avg(a,b,c,d):\n",
    "    sums = []\n",
    "    for i in [a,b,c,d]:\n",
    "        if pd.isna(i):\n",
    "            continue\n",
    "        else:\n",
    "            sums.append(i)\n",
    "    if len(sums) == 0:\n",
    "        return 0\n",
    "    else:\n",
    "        return sum(sums) / len(sums)"
   ]
  },
  {
   "cell_type": "code",
   "execution_count": 32,
   "id": "edca83d0-0a0b-4af0-b829-e9437e7e64e9",
   "metadata": {},
   "outputs": [],
   "source": [
    "tempdf['q_mean'] = tempdf.apply(lambda x: avg(x.loc['qualifying_time_total_seconds'], x.loc['q1_total_seconds'], \n",
    "                                              x.loc['q2_total_seconds'], x.loc['q3_total_seconds']), axis= 1)"
   ]
  },
  {
   "cell_type": "markdown",
   "id": "62e532bb-5d7c-43ea-826c-af9c6a861488",
   "metadata": {},
   "source": [
    "Lets combine this q_mean column into our original dataframe."
   ]
  },
  {
   "cell_type": "code",
   "execution_count": 33,
   "id": "e32fec71-729d-44d4-85ea-a71b4ea3dfed",
   "metadata": {},
   "outputs": [],
   "source": [
    "tempdf1 = tempdf[['q_mean']].copy()"
   ]
  },
  {
   "cell_type": "code",
   "execution_count": 34,
   "id": "abf355a9-b45f-44e1-9ac8-087fd66f7805",
   "metadata": {},
   "outputs": [],
   "source": [
    "newdf1 = pd.concat([newdf, tempdf1], axis= 1)"
   ]
  },
  {
   "cell_type": "code",
   "execution_count": 35,
   "id": "eb81fb37-525e-49aa-a13e-6303a4c4bdb6",
   "metadata": {},
   "outputs": [],
   "source": [
    "newdf1.drop(['Q1', 'Q2', 'Q3', 'Qualifying_Time'], axis= 1, inplace= True)"
   ]
  },
  {
   "cell_type": "code",
   "execution_count": 36,
   "id": "c0fe7643-f53c-478c-855e-3010a72128a4",
   "metadata": {},
   "outputs": [
    {
     "data": {
      "text/html": [
       "<div>\n",
       "<style scoped>\n",
       "    .dataframe tbody tr th:only-of-type {\n",
       "        vertical-align: middle;\n",
       "    }\n",
       "\n",
       "    .dataframe tbody tr th {\n",
       "        vertical-align: top;\n",
       "    }\n",
       "\n",
       "    .dataframe thead th {\n",
       "        text-align: right;\n",
       "    }\n",
       "</style>\n",
       "<table border=\"1\" class=\"dataframe\">\n",
       "  <thead>\n",
       "    <tr style=\"text-align: right;\">\n",
       "      <th></th>\n",
       "      <th>Car</th>\n",
       "      <th>Driver</th>\n",
       "      <th>Grand Prix</th>\n",
       "      <th>Year</th>\n",
       "      <th>Starting_Position</th>\n",
       "      <th>Finish_Position</th>\n",
       "      <th>Finish_Position_PTS</th>\n",
       "      <th>Qualifying_Position</th>\n",
       "      <th>Nationality</th>\n",
       "      <th>q_mean</th>\n",
       "    </tr>\n",
       "  </thead>\n",
       "  <tbody>\n",
       "    <tr>\n",
       "      <th>0</th>\n",
       "      <td>Alfa Romeo</td>\n",
       "      <td>Juan Manuel Fangio</td>\n",
       "      <td>Monaco</td>\n",
       "      <td>1950</td>\n",
       "      <td>1</td>\n",
       "      <td>1</td>\n",
       "      <td>9.0</td>\n",
       "      <td>1</td>\n",
       "      <td>NaN</td>\n",
       "      <td>110.2</td>\n",
       "    </tr>\n",
       "    <tr>\n",
       "      <th>1</th>\n",
       "      <td>Kurtis Kraft Offenhauser</td>\n",
       "      <td>Walt Faulkner</td>\n",
       "      <td>Indianapolis 500</td>\n",
       "      <td>1950</td>\n",
       "      <td>1</td>\n",
       "      <td>7</td>\n",
       "      <td>0.0</td>\n",
       "      <td>1</td>\n",
       "      <td>American</td>\n",
       "      <td>67.0</td>\n",
       "    </tr>\n",
       "    <tr>\n",
       "      <th>2</th>\n",
       "      <td>Alfa Romeo</td>\n",
       "      <td>Nino Farina</td>\n",
       "      <td>Belgium</td>\n",
       "      <td>1950</td>\n",
       "      <td>1</td>\n",
       "      <td>4</td>\n",
       "      <td>4.0</td>\n",
       "      <td>1</td>\n",
       "      <td>Italian</td>\n",
       "      <td>277.0</td>\n",
       "    </tr>\n",
       "    <tr>\n",
       "      <th>3</th>\n",
       "      <td>Alfa Romeo</td>\n",
       "      <td>Juan Manuel Fangio</td>\n",
       "      <td>France</td>\n",
       "      <td>1950</td>\n",
       "      <td>1</td>\n",
       "      <td>1</td>\n",
       "      <td>9.0</td>\n",
       "      <td>1</td>\n",
       "      <td>NaN</td>\n",
       "      <td>150.6</td>\n",
       "    </tr>\n",
       "    <tr>\n",
       "      <th>4</th>\n",
       "      <td>Alfa Romeo</td>\n",
       "      <td>Juan Manuel Fangio</td>\n",
       "      <td>Italy</td>\n",
       "      <td>1950</td>\n",
       "      <td>1</td>\n",
       "      <td>NC</td>\n",
       "      <td>1.0</td>\n",
       "      <td>1</td>\n",
       "      <td>NaN</td>\n",
       "      <td>118.6</td>\n",
       "    </tr>\n",
       "  </tbody>\n",
       "</table>\n",
       "</div>"
      ],
      "text/plain": [
       "                        Car              Driver        Grand Prix  Year  \\\n",
       "0                Alfa Romeo  Juan Manuel Fangio            Monaco  1950   \n",
       "1  Kurtis Kraft Offenhauser       Walt Faulkner  Indianapolis 500  1950   \n",
       "2                Alfa Romeo         Nino Farina           Belgium  1950   \n",
       "3                Alfa Romeo  Juan Manuel Fangio            France  1950   \n",
       "4                Alfa Romeo  Juan Manuel Fangio             Italy  1950   \n",
       "\n",
       "   Starting_Position Finish_Position  Finish_Position_PTS Qualifying_Position  \\\n",
       "0                  1               1                  9.0                   1   \n",
       "1                  1               7                  0.0                   1   \n",
       "2                  1               4                  4.0                   1   \n",
       "3                  1               1                  9.0                   1   \n",
       "4                  1              NC                  1.0                   1   \n",
       "\n",
       "  Nationality  q_mean  \n",
       "0         NaN   110.2  \n",
       "1    American    67.0  \n",
       "2     Italian   277.0  \n",
       "3         NaN   150.6  \n",
       "4         NaN   118.6  "
      ]
     },
     "execution_count": 36,
     "metadata": {},
     "output_type": "execute_result"
    }
   ],
   "source": [
    "newdf1.head()"
   ]
  },
  {
   "cell_type": "code",
   "execution_count": null,
   "id": "b273142a-59d7-4c64-908c-8f7a494040ee",
   "metadata": {},
   "outputs": [],
   "source": []
  },
  {
   "cell_type": "markdown",
   "id": "1a754034-b9d3-41eb-99c5-af961c359fb1",
   "metadata": {},
   "source": [
    "- Since Points are awarded after a race the Finish_Position_PTS presents a problem of data leakage i.e it gives away the finish position of driver so we will use cumulative points. To track the performance and position of driver.\n",
    "- This means we will have to use cumulative points & drop the Finish_Position_PTS column as it gives away the answer.\n",
    "- Lets create a tempory dataframe and then calculate cumulative points."
   ]
  },
  {
   "cell_type": "code",
   "execution_count": 37,
   "id": "df65242c-489c-4920-b6f0-761e6eb82d0d",
   "metadata": {},
   "outputs": [],
   "source": [
    "newdf1 = newdf1.sort_values(by=['Year', 'Driver', 'Grand Prix'])\n",
    "\n",
    "# Calculate cumulative points for each driver within each year\n",
    "newdf1['Cumulative_Points'] = newdf1.groupby(['Driver', 'Year'], as_index= False)['Finish_Position_PTS'].cumsum()"
   ]
  },
  {
   "cell_type": "code",
   "execution_count": 38,
   "id": "5483872b-38c5-46d9-b05d-44448f2fff0d",
   "metadata": {},
   "outputs": [],
   "source": [
    "newdf1.drop(['Finish_Position_PTS'], axis= 1, inplace= True)\n",
    "newdf1.reset_index(drop= True, inplace= True)"
   ]
  },
  {
   "cell_type": "code",
   "execution_count": 39,
   "id": "e335a955-905a-4ea6-aa1c-854ea75b7c6e",
   "metadata": {},
   "outputs": [
    {
     "data": {
      "text/html": [
       "<div>\n",
       "<style scoped>\n",
       "    .dataframe tbody tr th:only-of-type {\n",
       "        vertical-align: middle;\n",
       "    }\n",
       "\n",
       "    .dataframe tbody tr th {\n",
       "        vertical-align: top;\n",
       "    }\n",
       "\n",
       "    .dataframe thead th {\n",
       "        text-align: right;\n",
       "    }\n",
       "</style>\n",
       "<table border=\"1\" class=\"dataframe\">\n",
       "  <thead>\n",
       "    <tr style=\"text-align: right;\">\n",
       "      <th></th>\n",
       "      <th>Car</th>\n",
       "      <th>Driver</th>\n",
       "      <th>Grand Prix</th>\n",
       "      <th>Year</th>\n",
       "      <th>Starting_Position</th>\n",
       "      <th>Finish_Position</th>\n",
       "      <th>Qualifying_Position</th>\n",
       "      <th>Nationality</th>\n",
       "      <th>q_mean</th>\n",
       "      <th>Cumulative_Points</th>\n",
       "    </tr>\n",
       "  </thead>\n",
       "  <tbody>\n",
       "    <tr>\n",
       "      <th>0</th>\n",
       "      <td>Alfa Romeo</td>\n",
       "      <td>Juan Manuel Fangio</td>\n",
       "      <td>France</td>\n",
       "      <td>1950</td>\n",
       "      <td>1</td>\n",
       "      <td>1</td>\n",
       "      <td>1</td>\n",
       "      <td>NaN</td>\n",
       "      <td>150.6</td>\n",
       "      <td>9.0</td>\n",
       "    </tr>\n",
       "    <tr>\n",
       "      <th>1</th>\n",
       "      <td>Alfa Romeo</td>\n",
       "      <td>Juan Manuel Fangio</td>\n",
       "      <td>Italy</td>\n",
       "      <td>1950</td>\n",
       "      <td>1</td>\n",
       "      <td>NC</td>\n",
       "      <td>1</td>\n",
       "      <td>NaN</td>\n",
       "      <td>118.6</td>\n",
       "      <td>10.0</td>\n",
       "    </tr>\n",
       "    <tr>\n",
       "      <th>2</th>\n",
       "      <td>Alfa Romeo</td>\n",
       "      <td>Juan Manuel Fangio</td>\n",
       "      <td>Monaco</td>\n",
       "      <td>1950</td>\n",
       "      <td>1</td>\n",
       "      <td>1</td>\n",
       "      <td>1</td>\n",
       "      <td>NaN</td>\n",
       "      <td>110.2</td>\n",
       "      <td>19.0</td>\n",
       "    </tr>\n",
       "    <tr>\n",
       "      <th>3</th>\n",
       "      <td>Alfa Romeo</td>\n",
       "      <td>Nino Farina</td>\n",
       "      <td>Belgium</td>\n",
       "      <td>1950</td>\n",
       "      <td>1</td>\n",
       "      <td>4</td>\n",
       "      <td>1</td>\n",
       "      <td>Italian</td>\n",
       "      <td>277.0</td>\n",
       "      <td>4.0</td>\n",
       "    </tr>\n",
       "    <tr>\n",
       "      <th>4</th>\n",
       "      <td>Kurtis Kraft Offenhauser</td>\n",
       "      <td>Walt Faulkner</td>\n",
       "      <td>Indianapolis 500</td>\n",
       "      <td>1950</td>\n",
       "      <td>1</td>\n",
       "      <td>7</td>\n",
       "      <td>1</td>\n",
       "      <td>American</td>\n",
       "      <td>67.0</td>\n",
       "      <td>0.0</td>\n",
       "    </tr>\n",
       "  </tbody>\n",
       "</table>\n",
       "</div>"
      ],
      "text/plain": [
       "                        Car              Driver        Grand Prix  Year  \\\n",
       "0                Alfa Romeo  Juan Manuel Fangio            France  1950   \n",
       "1                Alfa Romeo  Juan Manuel Fangio             Italy  1950   \n",
       "2                Alfa Romeo  Juan Manuel Fangio            Monaco  1950   \n",
       "3                Alfa Romeo         Nino Farina           Belgium  1950   \n",
       "4  Kurtis Kraft Offenhauser       Walt Faulkner  Indianapolis 500  1950   \n",
       "\n",
       "   Starting_Position Finish_Position Qualifying_Position Nationality  q_mean  \\\n",
       "0                  1               1                   1         NaN   150.6   \n",
       "1                  1              NC                   1         NaN   118.6   \n",
       "2                  1               1                   1         NaN   110.2   \n",
       "3                  1               4                   1     Italian   277.0   \n",
       "4                  1               7                   1    American    67.0   \n",
       "\n",
       "   Cumulative_Points  \n",
       "0                9.0  \n",
       "1               10.0  \n",
       "2               19.0  \n",
       "3                4.0  \n",
       "4                0.0  "
      ]
     },
     "execution_count": 39,
     "metadata": {},
     "output_type": "execute_result"
    }
   ],
   "source": [
    "newdf1.head()"
   ]
  },
  {
   "cell_type": "code",
   "execution_count": null,
   "id": "024db5a0-d685-4beb-8096-019225975f78",
   "metadata": {},
   "outputs": [],
   "source": []
  },
  {
   "cell_type": "markdown",
   "id": "aef316e1-35dc-4fca-be6a-23f03b2675ac",
   "metadata": {},
   "source": [
    "In Finish_Position & Qualifying_Position columns there are 4 strings named NC, DQ, EX, RT.<br>\n",
    "- NC means Not classified. To be eligible for points, drivers need to be classified following a race. They will achieve classification by completing 90 per cent of the race. Most drivers who DNF will also be deemed as NC unless their retirement occurs in the final 10 per cent of the race.\n",
    "- DQ means disqulified. If a driver is disqualified during or after an F1 race, they are simply omitted from the ability to earn any points towards the driver's championship.\n",
    "- EX mean excluded. The most extreme punishment of all used for seriously endangering the life of another driver or trying to gain an unfair advantage in the championship is to be excluded.\n",
    "- RT means the driver is excluded from qualifying for not complying with rules as a result the driver has to start from the end of the grid."
   ]
  },
  {
   "cell_type": "code",
   "execution_count": 40,
   "id": "6ac73488-c10e-4d2c-bf08-b896953ea1b8",
   "metadata": {},
   "outputs": [],
   "source": [
    "#Replace NC, DQ, EX because they all mean that driver didn't finished race, so replace their position with -1.\n",
    "newdf1['Finish_Position'] = newdf1['Finish_Position'].replace(['NC', 'DQ', 'EX'], '-1')"
   ]
  },
  {
   "cell_type": "code",
   "execution_count": 41,
   "id": "9e4b691f-14c5-4ad2-8c91-2b074da4bef5",
   "metadata": {},
   "outputs": [],
   "source": [
    "#Replace NC, DQ, RT with -1 because they all mean that driver was disqualified and started race from the back of the grid.\n",
    "newdf1['Qualifying_Position'] = newdf1['Qualifying_Position'].replace(['NC', 'DQ', 'RT'], '-1')"
   ]
  },
  {
   "cell_type": "code",
   "execution_count": 42,
   "id": "24deaa57-4bfd-45ed-ba85-09e4363aa5c6",
   "metadata": {},
   "outputs": [],
   "source": [
    "# newdf1['Finish_Position'] = newdf1['Finish_Position'].astype(str).astype('int64')\n",
    "newdf1['Qualifying_Position'] = newdf1['Qualifying_Position'].astype(str).astype('int64')"
   ]
  },
  {
   "cell_type": "code",
   "execution_count": null,
   "id": "48ccde58-36fe-4a72-b2a5-ccc9e23c846e",
   "metadata": {},
   "outputs": [],
   "source": []
  },
  {
   "cell_type": "markdown",
   "id": "0032e5b4-1669-47e4-86e3-87e6165b1767",
   "metadata": {},
   "source": [
    "In Nationality column there are 29 drivers whose nationality is missing. I will make a dictionary where key will be the drivers and value will be their nationality which I will add after doing research."
   ]
  },
  {
   "cell_type": "code",
   "execution_count": 43,
   "id": "30eb78e8-5a91-422b-b6e2-c64ac83a6d89",
   "metadata": {},
   "outputs": [
    {
     "data": {
      "text/plain": [
       "array(['Juan Manuel Fangio', 'Jose Froilan Gonzalez', 'Rene Arnoux',\n",
       "       'Francois Hesnault', 'Adrian Campos', 'Jean Louis Schlesser',\n",
       "       'Luis Perez-Sala', 'Mauricio Gugelmin', 'Eric Bernard',\n",
       "       'Jyrki Jarvilehto', 'Pierre Henri Raphanel', 'Erik Comas',\n",
       "       'Mika Hakkinen', 'Jean-Denis Deletraz', 'Marc Gene',\n",
       "       'Stephane Sarrazin', 'Gaston Mazzacane', 'Tomas Enge',\n",
       "       'Antonio Pizzonia', 'Sebastien Bourdais', 'Sebastien Buemi',\n",
       "       'Nico Hulkenberg', \"Jerome d'Ambrosio\", 'Sergio Perez',\n",
       "       'Jean-Eric Vergne', 'Esteban Gutierrez', 'Andre Lotterer',\n",
       "       'Nyck De Vries', 'Zhou Guanyu'], dtype=object)"
      ]
     },
     "execution_count": 43,
     "metadata": {},
     "output_type": "execute_result"
    }
   ],
   "source": [
    "newdf1.loc[newdf1['Nationality'].isna(), 'Driver'].unique()"
   ]
  },
  {
   "cell_type": "code",
   "execution_count": 44,
   "id": "de3ad502-7fd0-4edc-b547-4478066fdfaf",
   "metadata": {},
   "outputs": [],
   "source": [
    "drivers = newdf1.loc[newdf1['Nationality'].isna(), 'Driver'].unique().tolist()\n",
    "\n",
    "countries = ['Argentine', 'Argentine', 'French', 'French', 'Spanish', 'French', 'Spanish', 'Brazilian', 'French', 'Finnish', \n",
    "             'French', 'French', 'Finnish', 'Swiss', 'Spanish', 'French', 'Argentine', 'Czechoslovakian', 'Brazilian', 'French',\n",
    "            'Swiss', 'German', 'Belgian', 'Mexican', 'French', 'Mexican', 'German', 'Dutch', 'Chinese']\n",
    "\n",
    "country_absent= {}\n",
    "for d,c in zip(drivers, countries):\n",
    "    if d not in country_absent:\n",
    "        country_absent[d] = c\n",
    "\n",
    "def add_nationality(driver, country):\n",
    "    if (driver in country_absent) and pd.isna(country):\n",
    "        country = country_absent[driver]\n",
    "    return country "
   ]
  },
  {
   "cell_type": "code",
   "execution_count": 45,
   "id": "1193b47d-8cf2-442c-8152-9b01f109dc8e",
   "metadata": {},
   "outputs": [],
   "source": [
    "newdf1['Nationality'] = newdf1.apply(lambda x: add_nationality(x.loc['Driver'], x.loc['Nationality']), axis= 1)"
   ]
  },
  {
   "cell_type": "code",
   "execution_count": 50,
   "id": "3272a102-37b2-404c-9e0d-55c70570225c",
   "metadata": {},
   "outputs": [
    {
     "name": "stdout",
     "output_type": "stream",
     "text": [
      "<class 'pandas.core.frame.DataFrame'>\n",
      "RangeIndex: 16008 entries, 0 to 16007\n",
      "Data columns (total 10 columns):\n",
      " #   Column               Non-Null Count  Dtype  \n",
      "---  ------               --------------  -----  \n",
      " 0   Car                  16008 non-null  object \n",
      " 1   Driver               16008 non-null  object \n",
      " 2   Grand Prix           16008 non-null  object \n",
      " 3   Year                 16008 non-null  int64  \n",
      " 4   Starting_Position    16008 non-null  int64  \n",
      " 5   Finish_Position      16008 non-null  object \n",
      " 6   Qualifying_Position  16008 non-null  int64  \n",
      " 7   Nationality          16008 non-null  object \n",
      " 8   q_mean               16008 non-null  float64\n",
      " 9   Cumulative_Points    16008 non-null  float64\n",
      "dtypes: float64(2), int64(3), object(5)\n",
      "memory usage: 1.2+ MB\n"
     ]
    }
   ],
   "source": [
    "newdf1.info()"
   ]
  },
  {
   "cell_type": "code",
   "execution_count": null,
   "id": "236280e8-01a9-409b-bc3f-d4ee8f7b86e2",
   "metadata": {},
   "outputs": [],
   "source": []
  },
  {
   "cell_type": "markdown",
   "id": "2a66b895-8e82-4ed6-a956-412988e8a0ce",
   "metadata": {},
   "source": [
    "**Make a copy of the dataframe and use it for training.**"
   ]
  },
  {
   "cell_type": "code",
   "execution_count": 51,
   "id": "ae60a262-bb17-460a-97fa-64f68549715a",
   "metadata": {},
   "outputs": [],
   "source": [
    "top10 = newdf1.copy()"
   ]
  },
  {
   "cell_type": "code",
   "execution_count": 52,
   "id": "ab4fbba0-3936-4f1a-8e96-acbf139344b2",
   "metadata": {},
   "outputs": [],
   "source": [
    "#Convert the datatype of 'Finish_Position' column from object to int .\n",
    "top10['Finish_Position'] = top10['Finish_Position'].astype('int')"
   ]
  },
  {
   "cell_type": "markdown",
   "id": "12d3c239-f3bc-4b1c-8b8d-1e51163bcad1",
   "metadata": {},
   "source": [
    "Since we are going to predict the top 10 finishers, lets include them and rest other positions will be denoted by 11."
   ]
  },
  {
   "cell_type": "code",
   "execution_count": 53,
   "id": "7513111f-a3f8-4bf1-b11a-d721e2310add",
   "metadata": {},
   "outputs": [],
   "source": [
    "# Function to create classes for 1-10 position and rest all will be put in 0 class.\n",
    "def ten(pos):\n",
    "    desired_pos = [1,2,3,4,5,6,7,8,9,10]\n",
    "    if pos in desired_pos:\n",
    "        return pos\n",
    "    else:\n",
    "        return 11"
   ]
  },
  {
   "cell_type": "code",
   "execution_count": 54,
   "id": "4719882d-0525-4b7e-875b-f2cfedf8c55c",
   "metadata": {},
   "outputs": [],
   "source": [
    "top10['Finish_Position'] = top10.apply(lambda x: ten(x.loc['Finish_Position']), axis= 1)"
   ]
  },
  {
   "cell_type": "code",
   "execution_count": 55,
   "id": "ea9a0aa0-2c0b-4fcc-a4f2-c4eb65b25a68",
   "metadata": {},
   "outputs": [
    {
     "data": {
      "text/plain": [
       "array([ 1, 11,  4,  7, 10,  9,  3,  2,  8,  5,  6], dtype=int64)"
      ]
     },
     "execution_count": 55,
     "metadata": {},
     "output_type": "execute_result"
    }
   ],
   "source": [
    "top10['Finish_Position'].unique()"
   ]
  },
  {
   "cell_type": "code",
   "execution_count": 56,
   "id": "9d912d05-94af-4f11-8bbb-4633a1986c29",
   "metadata": {},
   "outputs": [],
   "source": [
    "# Collect categorical features to convert them into integers using ExtendedLabelEncoder()\n",
    "categorical_features = [ i for i in top10.columns if not(is_numeric_dtype(top10[i])) and i != 'Finish_Position']"
   ]
  },
  {
   "cell_type": "code",
   "execution_count": 57,
   "id": "779b2b7d-ae8c-4667-9a6c-b6501d59f2a0",
   "metadata": {},
   "outputs": [
    {
     "data": {
      "text/plain": [
       "['Car', 'Driver', 'Grand Prix', 'Nationality']"
      ]
     },
     "execution_count": 57,
     "metadata": {},
     "output_type": "execute_result"
    }
   ],
   "source": [
    "categorical_features"
   ]
  },
  {
   "cell_type": "code",
   "execution_count": null,
   "id": "51d74d60-726a-4666-a165-f6bab09fe26e",
   "metadata": {},
   "outputs": [],
   "source": []
  },
  {
   "cell_type": "markdown",
   "id": "3f5cf4c9-fb48-456e-8b16-3c991f853fb8",
   "metadata": {},
   "source": [
    "The LabelEncoder class has been modified into the **ExtendedLabelEncoder** class to handle unseen values effectively during prediction. Here are the key features of this extended class: <br>\n",
    "\n",
    "- Mapping Extension: The mapping_extended dictionary has been added. Its keys are strings/objects, and its values are the corresponding integer encodings.\n",
    "\n",
    "- Inverse Mapping: The inverse_mapping_extended dictionary is implemented to convert integers back into their respective string/object values.\n",
    "\n",
    "- Handling New Values: The new_values dictionary stores any new values encountered during prediction. Each new value's key is the unseen string/object, and its value is the maximum of the existing values in the mapping_extended dictionary plus one and it continues to increment by one.\n",
    "\n",
    "- Next Value Initialization: The next_value variable is initialized as None and is used to help populate the new_values dictionary with appropriate integer encodings for new values."
   ]
  },
  {
   "cell_type": "code",
   "execution_count": 58,
   "id": "c4ad44f3-2f58-49f8-8f8d-219e1e6675eb",
   "metadata": {},
   "outputs": [],
   "source": [
    "class ExtendedLabelEncoder(LabelEncoder):\n",
    "    def __init__(self, *args, **kwargs):\n",
    "        super().__init__(*args, **kwargs)\n",
    "        self._mapping_extended = {}\n",
    "        self._inverse_mapping_extended = {}\n",
    "        self._new_values = {}\n",
    "        self._next_value = None\n",
    "\n",
    "    def fit(self, X, y=None):\n",
    "        super().fit(X)\n",
    "        self._mapping_extended = {value: idx for idx, value in enumerate(self.classes_)}\n",
    "        self._inverse_mapping_extended = {idx: value for idx, value in enumerate(self.classes_)}\n",
    "        self._max_value = max(self._mapping_extended.values())\n",
    "        self._next_value = self._max_value + 1\n",
    "\n",
    "    def transform(self, X):\n",
    "        transformed = []\n",
    "        for x in X:\n",
    "            if x in self._mapping_extended:\n",
    "                transformed.append(self._mapping_extended[x])\n",
    "            else:\n",
    "                if x not in self._new_values:\n",
    "                    self._new_values[x] = self._next_value\n",
    "                    self._inverse_mapping_extended[self._next_value] = x\n",
    "                    self._next_value += 1\n",
    "                transformed.append(self._new_values[x])\n",
    "        return transformed\n",
    "\n",
    "    def fit_transform(self, X, y=None):\n",
    "        self.fit(X)\n",
    "        return self.transform(X)\n",
    "\n",
    "    def inverse_transform(self, X):\n",
    "        return [self._inverse_mapping_extended[x] if x in self._inverse_mapping_extended else 'unknown' for x in X]"
   ]
  },
  {
   "cell_type": "code",
   "execution_count": 148,
   "id": "9c2a0f99-c940-43b5-a560-3b901676aaa9",
   "metadata": {},
   "outputs": [],
   "source": [
    "#Encoding categorical features using extended encoder\n",
    "label_encoders = {}\n",
    "for col in categorical_features:\n",
    "    le = ExtendedLabelEncoder()\n",
    "    top10[col] = le.fit_transform(top10[col])\n",
    "    label_encoders[col] = le"
   ]
  },
  {
   "cell_type": "code",
   "execution_count": null,
   "id": "2d85e405-8ee2-46dc-8a79-b90d1fa134d6",
   "metadata": {},
   "outputs": [],
   "source": []
  },
  {
   "cell_type": "markdown",
   "id": "bf034600-24af-4145-9b8a-0bb1123fe6a2",
   "metadata": {},
   "source": [
    "Now we will split the data into train, dev & test set. Training set will be used for training, dev set is useful for hyperparameter tuning & test set is used to test the performance of the model on unseen data."
   ]
  },
  {
   "cell_type": "code",
   "execution_count": 149,
   "id": "ea32aa13-4d3a-4f14-93c8-6cb45564cbd6",
   "metadata": {},
   "outputs": [],
   "source": [
    "X = top10.drop(['Finish_Position'], axis= 1)\n",
    "y = top10['Finish_Position'].copy()"
   ]
  },
  {
   "cell_type": "code",
   "execution_count": 150,
   "id": "7d060e5e-0785-4130-9c8a-f959594709f4",
   "metadata": {},
   "outputs": [],
   "source": [
    "# Train, dev & test split\n",
    "X_train, X_temp, y_train, y_temp = train_test_split(X, y, test_size= 0.3, random_state= 40)\n",
    "X_dev, X_test, y_dev, y_test = train_test_split(X_temp, y_temp, test_size=0.5, random_state=40)\n",
    "\n",
    "# Resetting indices to ensure alignment\n",
    "X_train = X_train.reset_index(drop=True)\n",
    "y_train = y_train.reset_index(drop=True)\n",
    "X_dev = X_dev.reset_index(drop=True)\n",
    "y_dev = y_dev.reset_index(drop=True)\n",
    "X_test = X_test.reset_index(drop=True)\n",
    "y_test = y_test.reset_index(drop=True)"
   ]
  },
  {
   "cell_type": "code",
   "execution_count": null,
   "id": "7c5e3079-5681-45d0-9eec-f393c426217e",
   "metadata": {},
   "outputs": [],
   "source": []
  },
  {
   "cell_type": "markdown",
   "id": "63dba820-f2ce-43f4-8d7d-f9cde6f39236",
   "metadata": {},
   "source": [
    "For classification we are going to use 3 models and they are Random Forest, Decision Tree and KNN."
   ]
  },
  {
   "cell_type": "code",
   "execution_count": 151,
   "id": "805abae1-95ac-41d8-9bf6-756a32f0dcd9",
   "metadata": {},
   "outputs": [],
   "source": [
    "models = {\n",
    "    'RandomForest': RandomForestClassifier(random_state=42),\n",
    "    'DecisionTree': DecisionTreeClassifier(random_state=42),\n",
    "    'KNeighbors': KNeighborsClassifier()\n",
    "}"
   ]
  },
  {
   "cell_type": "code",
   "execution_count": 152,
   "id": "623503ff-95ce-4a0a-8c42-3928b9231ce9",
   "metadata": {},
   "outputs": [],
   "source": [
    "#Create empty dataframes to store the metric scores for model evaluation later.\n",
    "\n",
    "acc = pd.DataFrame()\n",
    "top10_acc = pd.DataFrame()\n",
    "\n",
    "for model_name, _ in models.items():\n",
    "    acc[model_name] = ''\n",
    "    top10_acc[model_name] = ''"
   ]
  },
  {
   "cell_type": "code",
   "execution_count": 154,
   "id": "964252ec-055b-4bbb-bd30-07e4e4a204d1",
   "metadata": {},
   "outputs": [
    {
     "name": "stdout",
     "output_type": "stream",
     "text": [
      "Model: RandomForest\n",
      "Accuracy: 0.5605997501041233\n",
      "Top 10 Accuracy Score: 0.870887130362349\n",
      "\n",
      "Model: DecisionTree\n",
      "Accuracy: 0.4414827155351937\n",
      "Top 10 Accuracy Score: 0.7563515201999167\n",
      "\n",
      "Model: KNeighbors\n",
      "Accuracy: 0.49812578092461474\n",
      "Top 10 Accuracy Score: 0.7959183673469388\n",
      "\n"
     ]
    }
   ],
   "source": [
    "#Check the top 5 accuracy score\n",
    "k = 5\n",
    "\n",
    "#Add the evaluation scores to first row of acc & top10_acc\n",
    "row = len(acc.index)\n",
    "\n",
    "# Define the custom scorer for top-k accuracy\n",
    "top_k_scorer = make_scorer(top_k_accuracy_score, k=k, response_method=\"predict_proba\")\n",
    "\n",
    "for model_name, model in models.items():\n",
    "    #train the model\n",
    "    model.fit(X_train, y_train)\n",
    "\n",
    "    #make predictions\n",
    "    y_pred = model.predict(X_dev)\n",
    "\n",
    "    #Evaluation\n",
    "    print(f'Model: {model_name}')\n",
    "    \n",
    "    print(f'Accuracy: {accuracy_score(y_dev, y_pred)}')\n",
    "    acc.loc[row, model_name] = accuracy_score(y_dev, y_pred)\n",
    "    \n",
    "    print(f'Top 10 Accuracy Score: {top_k_accuracy_score(y_dev, model.predict_proba(X_dev), k=k)}\\n')\n",
    "    top10_acc.loc[row, model_name] = top_k_accuracy_score(y_dev, model.predict_proba(X_dev), k=k)"
   ]
  },
  {
   "cell_type": "markdown",
   "id": "77c85a8e-6c2e-490c-acaa-032f5a57c5a8",
   "metadata": {},
   "source": [
    "Now we will set parameters for the models to which will be used during Gridsearch to find the optimal parameters for every model."
   ]
  },
  {
   "cell_type": "code",
   "execution_count": 155,
   "id": "7a796d92-227d-4d16-b033-7b25c79e34af",
   "metadata": {},
   "outputs": [],
   "source": [
    "param_grids = {\n",
    "    'RandomForest': {\n",
    "        'n_estimators': [300, 400, 500, 600],\n",
    "        'max_features': ['sqrt', 'log2'],\n",
    "        'max_depth': [None, 10, 20, 30],\n",
    "        'criterion': ['gini', 'entropy']\n",
    "    },\n",
    "    'DecisionTree': {\n",
    "        'criterion': ['gini', 'entropy'],\n",
    "        'splitter': ['best', 'random'],\n",
    "        'max_depth': [None, 10, 20, 30],\n",
    "        'min_samples_split': [2, 10, 20]\n",
    "    },\n",
    "    'KNeighbors': {\n",
    "        'n_neighbors': [3, 5, 7, 9],\n",
    "        'weights': ['uniform', 'distance'],\n",
    "        'metric': ['euclidean', 'manhattan', 'minkowski']\n",
    "    }\n",
    "}"
   ]
  },
  {
   "cell_type": "code",
   "execution_count": 156,
   "id": "214318d5-453b-48db-adcc-8a30fc157877",
   "metadata": {},
   "outputs": [],
   "source": [
    "best_estimators = {}"
   ]
  },
  {
   "cell_type": "code",
   "execution_count": 157,
   "id": "6c1dd41e-630e-4665-b9d4-6b1a654964df",
   "metadata": {},
   "outputs": [
    {
     "name": "stdout",
     "output_type": "stream",
     "text": [
      "Best Parameters for RandomForest: {'criterion': 'gini', 'max_depth': 10, 'max_features': 'sqrt', 'n_estimators': 500}\n",
      "Accuracy for RandomForest: 0.5801749271137027\n",
      "Top-10 Accuracy for RandomForest: 0.8962932111620159\n",
      "\n",
      "Best Parameters for DecisionTree: {'criterion': 'gini', 'max_depth': 10, 'min_samples_split': 20, 'splitter': 'best'}\n",
      "Accuracy for DecisionTree: 0.5531028738025823\n",
      "Top-10 Accuracy for DecisionTree: 0.8750520616409829\n",
      "\n",
      "Best Parameters for KNeighbors: {'metric': 'manhattan', 'n_neighbors': 9, 'weights': 'distance'}\n",
      "Accuracy for KNeighbors: 0.5318617242815493\n",
      "Top-10 Accuracy for KNeighbors: 0.8259058725531029\n",
      "\n"
     ]
    }
   ],
   "source": [
    "#Check the top 5 accuracy score\n",
    "k = 5\n",
    "\n",
    "#Add the evaluation scores to second row of acc & top10_acc dataframes\n",
    "row = len(acc.index)\n",
    "\n",
    "# Define the custom scorer for top-k accuracy\n",
    "top_k_scorer = make_scorer(top_k_accuracy_score, k=k, response_method=\"predict_proba\")\n",
    "\n",
    "for model_name, model in models.items():\n",
    "\n",
    "    # Create GridSearchCV\n",
    "    grid_search = GridSearchCV(model, param_grids[model_name], \n",
    "                               cv= StratifiedKFold(n_splits= 3, shuffle=True, random_state=0), n_jobs=-1, scoring= top_k_scorer)\n",
    "    \n",
    "    # Fit the GridSearchCV\n",
    "    grid_search.fit(X_train, y_train)\n",
    "    \n",
    "    # Get the best estimator\n",
    "    best_estimators[model_name] = grid_search.best_estimator_\n",
    "    \n",
    "    # Evaluate the best model\n",
    "    y_pred = best_estimators[model_name].predict(X_dev)\n",
    "    \n",
    "    print(f\"Best Parameters for {model_name}: {grid_search.best_params_}\")\n",
    "    \n",
    "    print(f\"Accuracy for {model_name}: {accuracy_score(y_dev, y_pred)}\")\n",
    "    acc.loc[row, model_name] = accuracy_score(y_dev, y_pred)\n",
    "    \n",
    "    print(f\"Top-10 Accuracy for {model_name}: {top_k_accuracy_score(y_dev, best_estimators[model_name].predict_proba(X_dev), k=k)}\\n\")\n",
    "    top10_acc.loc[row, model_name] = top_k_accuracy_score(y_dev, best_estimators[model_name].predict_proba(X_dev), k=k)"
   ]
  },
  {
   "cell_type": "code",
   "execution_count": null,
   "id": "190cd717-99f7-4344-b2db-32041dc60c68",
   "metadata": {},
   "outputs": [],
   "source": []
  },
  {
   "cell_type": "markdown",
   "id": "bfaaa739-d30e-497b-a9b6-a5360a995452",
   "metadata": {},
   "source": [
    "**Lets plot the accuracy score and top_k_accuracy score for the models before and after hyperparameter tuning.**"
   ]
  },
  {
   "cell_type": "code",
   "execution_count": 158,
   "id": "83c8ce0f-8f2b-4b7a-80dd-3efbe8ebdedd",
   "metadata": {},
   "outputs": [
    {
     "data": {
      "image/png": "[encoded data removed]",
      "text/plain": [
       "<Figure size 640x480 with 1 Axes>"
      ]
     },
     "metadata": {},
     "output_type": "display_data"
    }
   ],
   "source": [
    "plt.plot(acc)\n",
    "plt.legend(acc.columns)\n",
    "plt.show()"
   ]
  },
  {
   "cell_type": "code",
   "execution_count": 159,
   "id": "bc328323-58c3-425e-b38e-be73ef1e0bfe",
   "metadata": {},
   "outputs": [
    {
     "data": {
      "image/png": "[encoded data removed]",
      "text/plain": [
       "<Figure size 640x480 with 1 Axes>"
      ]
     },
     "metadata": {},
     "output_type": "display_data"
    }
   ],
   "source": [
    "plt.plot(top10_acc)\n",
    "plt.legend(top10_acc.columns)\n",
    "plt.show()"
   ]
  },
  {
   "cell_type": "code",
   "execution_count": null,
   "id": "28ac1da1-41a5-41ae-97e2-626142f2704d",
   "metadata": {},
   "outputs": [],
   "source": []
  },
  {
   "cell_type": "markdown",
   "id": "24f9ae3c-335a-49d9-b03a-7c7a1fc97854",
   "metadata": {},
   "source": [
    "**Lets test the model on unseen test data and evaluate the performance.**"
   ]
  },
  {
   "cell_type": "code",
   "execution_count": 160,
   "id": "db9ce77a-fe7a-4fc4-8a15-bf1b3f43b036",
   "metadata": {},
   "outputs": [
    {
     "name": "stdout",
     "output_type": "stream",
     "text": [
      "Model: RandomForest\n",
      "Accuracy: 0.582014987510408\n",
      "Top 10 Accuracy Score: 0.9929225645295587\n",
      "\n",
      "Model: DecisionTree\n",
      "Accuracy: 0.5553705245628643\n",
      "Top 10 Accuracy Score: 0.9870940882597835\n",
      "\n",
      "Model: KNeighbors\n",
      "Accuracy: 0.5541215653621981\n",
      "Top 10 Accuracy Score: 0.9754371357202332\n",
      "\n"
     ]
    }
   ],
   "source": [
    "for model_name, model in best_estimators.items():\n",
    "    y_pred = model.predict(X_test)\n",
    "\n",
    "    #Evaluation\n",
    "    print(f'Model: {model_name}')\n",
    "    print(f'Accuracy: {accuracy_score(y_test, y_pred)}')\n",
    "    print(f'Top 10 Accuracy Score: {top_k_accuracy_score(y_test, model.predict_proba(X_test), k=10)}\\n')"
   ]
  },
  {
   "cell_type": "code",
   "execution_count": null,
   "id": "5cffe975-9361-4c93-8958-e3e50f49c06f",
   "metadata": {},
   "outputs": [],
   "source": []
  },
  {
   "cell_type": "markdown",
   "id": "6492b5af-a54c-4163-97f7-c281b714ce47",
   "metadata": {},
   "source": [
    "**Based on the metrics Random Forest gives best results.**<br>\n",
    "We will save the trained random forest model and encoder on drive using pickle so we can use it later for prediction."
   ]
  },
  {
   "cell_type": "code",
   "execution_count": 161,
   "id": "252f4f7c-2728-4ecb-b78f-7f75f5ad39da",
   "metadata": {},
   "outputs": [],
   "source": [
    "# Saving model to pickle file\n",
    "new_best_model = best_estimators['RandomForest']\n",
    "with open(\"new_best_model_top10.pkl\", \"wb\") as file:\n",
    "    pickle.dump(new_best_model, file)"
   ]
  },
  {
   "cell_type": "code",
   "execution_count": 162,
   "id": "5715b022-e68b-453f-aa68-03cf92d5a553",
   "metadata": {},
   "outputs": [],
   "source": [
    "# Saving encoder to pickle file\n",
    "with open(\"new_encoders.pkl\", \"wb\") as file:\n",
    "    pickle.dump(label_encoders, file)"
   ]
  },
  {
   "cell_type": "code",
   "execution_count": null,
   "id": "c4fd0a6e-94d0-4fe4-b445-c029e603abd8",
   "metadata": {},
   "outputs": [],
   "source": [
    "columns = list(X_train.columns)\n",
    "# Save the names of columns to pickle file\n",
    "with open(\"columns.pkl\", \"wb\") as file:\n",
    "    pickle.dump(columns, file)"
   ]
  },
  {
   "cell_type": "code",
   "execution_count": null,
   "id": "c83aeb27-ab22-429a-a4aa-28200958789b",
   "metadata": {},
   "outputs": [],
   "source": []
  },
  {
   "cell_type": "markdown",
   "id": "b5dd4f01-8519-4c10-baa7-80df515a2977",
   "metadata": {},
   "source": [
    "**Now we will use the gradio for deployment of the model.**"
   ]
  },
  {
   "cell_type": "code",
   "execution_count": null,
   "id": "3658b314-f30c-44c3-9567-7e80b2d9841c",
   "metadata": {},
   "outputs": [],
   "source": [
    "#Define the ExtendedLabelEncoder class.\n",
    "class ExtendedLabelEncoder(LabelEncoder):\n",
    "    def __init__(self, *args, **kwargs):\n",
    "        super().__init__(*args, **kwargs)\n",
    "        self._mapping_extended = {}\n",
    "        self._inverse_mapping_extended = {}\n",
    "        self._new_values = {}\n",
    "        self._next_value = None\n",
    "\n",
    "    def fit(self, X, y=None):\n",
    "        super().fit(X)\n",
    "        self._mapping_extended = {value: idx for idx, value in enumerate(self.classes_)}\n",
    "        self._inverse_mapping_extended = {idx: value for idx, value in enumerate(self.classes_)}\n",
    "        self._max_value = max(self._mapping_extended.values())\n",
    "        self._next_value = self._max_value + 1\n",
    "\n",
    "    def transform(self, X):\n",
    "        transformed = []\n",
    "        for x in X:\n",
    "            if x in self._mapping_extended:\n",
    "                transformed.append(self._mapping_extended[x])\n",
    "            else:\n",
    "                if x not in self._new_values:\n",
    "                    self._new_values[x] = self._next_value\n",
    "                    self._inverse_mapping_extended[self._next_value] = x\n",
    "                    self._next_value += 1\n",
    "                transformed.append(self._new_values[x])\n",
    "        return transformed\n",
    "\n",
    "    def fit_transform(self, X, y=None):\n",
    "        self.fit(X)\n",
    "        return self.transform(X)\n",
    "\n",
    "    def inverse_transform(self, X):\n",
    "        return [self._inverse_mapping_extended[x] if x in self._inverse_mapping_extended else 'unknown' for x in X]\n",
    "\n",
    "def predict_top_n_drivers(cars, drivers, grand_prix, year, start, qualify_pos, nationality, quali_mean, total_pts, top_finishers= 10):\n",
    "    \n",
    "    with open(\"columns.pkl\", \"rb\") as file:\n",
    "        columns = pickle.load(file)\n",
    "    \n",
    "    new_data = {}\n",
    "    \n",
    "    # Convert the parameters into the proper format\n",
    "    cars = list(cars.split(\",\"))\n",
    "    drivers = list(drivers.split(\",\"))\n",
    "    grand_prix = [grand_prix] * len(cars)\n",
    "    year = [int(year)] * len(cars)\n",
    "    start = list(map(int, start.split(\",\")))\n",
    "    qualify_pos = list(map(int, qualify_pos.split(\",\")))\n",
    "    nationality = list(nationality.split(\",\"))\n",
    "    quali_mean = list(map(float, quali_mean.split(\",\")))\n",
    "    total_pts = list(map(float, total_pts.split(\",\")))\n",
    "\n",
    "    data = [cars, drivers, grand_prix, year, start, qualify_pos, nationality, quali_mean, total_pts]\n",
    "    \n",
    "    for k, v in zip(columns, data):\n",
    "        new_data[k] = v\n",
    "\n",
    "    new_data = pd.DataFrame(new_data)\n",
    "\n",
    "    \n",
    "    # Encode categorical features\n",
    "    with open(\"new_encoders.pkl\", \"rb\") as file:\n",
    "        label_encoders = pickle.load(file)\n",
    "\n",
    "    for col, le in label_encoders.items():\n",
    "        new_data[col] = le.transform(new_data[col])\n",
    "\n",
    "    # Load saved model\n",
    "    with open(\"new_best_model_top10.pkl\", \"rb\") as file:\n",
    "        model = pickle.load(file)\n",
    "\n",
    "    # Make probability predictions\n",
    "    predictions = model.predict_proba(new_data)\n",
    "\n",
    "    # Get the top 10 predictions\n",
    "    predictions = np.delete(predictions, 10, 1) #delete last column as it has probability for positions 11 and above. We need top 10\n",
    "    \n",
    "    # Get the index of top 10 drivers\n",
    "    idx =  np.argmax(predictions, axis= 0)\n",
    "\n",
    "    encoded_drivers = new_data[pd.Series(new_data.index.values).isin(idx)]['Driver']\n",
    "    decoded_drivers = label_encoders['Driver'].inverse_transform(encoded_drivers)\n",
    "\n",
    "    return \", \".join(decoded_drivers)\n",
    "\n",
    "\n",
    "with gr.Blocks() as demo:\n",
    "    top_finishers = gr.Number(label='Mention Top number of finishers to Predict', value=10, interactive = False)\n",
    "    cars = gr.Textbox(label='Cars Participating', placeholder='Write names of the cars separated by comma')\n",
    "    drivers = gr.Textbox(label='Drivers', placeholder='Write Driver names separated by comma')\n",
    "    grand_prix = gr.Textbox(label='Grand Prix', placeholder='Write Grand Prix name')\n",
    "    year = gr.Number(label='Year')\n",
    "    start = gr.Textbox(label='Starting Positions')\n",
    "    qualify_pos = gr.Textbox(label='Qualifying Positions', placeholder='If disqualified or not participated enter -1')\n",
    "    nationality = gr.Textbox(label='Nationalities', placeholder='Enter the nationalities of respective drivers')\n",
    "    quali_mean = gr.Textbox(label='Average values of qualifying for respective drivers')\n",
    "    total_pts = gr.Textbox(label='Total points collected by driver till now')\n",
    "\n",
    "    inputs = [cars, drivers, grand_prix, year, start, qualify_pos, nationality, quali_mean, total_pts, top_finishers]\n",
    "    output = gr.Textbox(label='The Predicted drivers are:')\n",
    "    button = gr.Button(\"Submit\")\n",
    "    button.click(predict_top_n_drivers, inputs=inputs, outputs=output)\n",
    "\n",
    "demo.launch()\n"
   ]
  },
  {
   "cell_type": "code",
   "execution_count": null,
   "id": "5d7848f8-8204-41da-b932-6b27ec0e755e",
   "metadata": {},
   "outputs": [],
   "source": []
  }
 ],
 "metadata": {
  "kernelspec": {
   "display_name": "Python 3 (ipykernel)",
   "language": "python",
   "name": "python3"
  },
  "language_info": {
   "codemirror_mode": {
    "name": "ipython",
    "version": 3
   },
   "file_extension": ".py",
   "mimetype": "text/x-python",
   "name": "python",
   "nbconvert_exporter": "python",
   "pygments_lexer": "ipython3",
   "version": "3.11.5"
  }
 },
 "nbformat": 4,
 "nbformat_minor": 5
}
